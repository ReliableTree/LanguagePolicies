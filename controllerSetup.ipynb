{
 "cells": [
  {
   "cell_type": "code",
   "execution_count": 1,
   "metadata": {},
   "outputs": [
    {
     "data": {
      "text/plain": [
       "'float64'"
      ]
     },
     "execution_count": 1,
     "metadata": {},
     "output_type": "execute_result"
    }
   ],
   "source": [
    "import torch\n",
    "import torch.nn as nn\n",
    "import tensorflow as tf\n",
    "import numpy as np\n",
    "from model_src.feedbackcontroller import FeedbackController\n",
    "from model_src.feedbackcontrollerTorch import FeedBackControllerTorch\n",
    "torch.set_default_dtype(torch.float64)\n",
    "tf.keras.backend.set_floatx('float64')\n",
    "tf.keras.backend.floatx()\n"
   ]
  },
  {
   "cell_type": "code",
   "execution_count": 2,
   "metadata": {},
   "outputs": [],
   "source": [
    "class controller_torch(nn.Module):\n",
    "    def __init__(self) -> None:\n",
    "        super().__init__()\n",
    "        self.units               = 32\n",
    "        self.output_dims         = 7\n",
    "        self.basis_functions     = 11\n",
    "        self.ptgloabl_units      = 42\n",
    "        self.controller = FeedBackControllerTorch(\n",
    "            robot_state_size=self.units,\n",
    "            dimensions=self.output_dims,\n",
    "            basis_functions=self.basis_functions,\n",
    "            cnfeatures_size=self.units + self.output_dims + 5,\n",
    "            use_LSTM = False\n",
    "        )\n",
    "\n",
    "    def forward(self, robot, initial_state, cfeatures, dmp_dt):\n",
    "        return self.controller(seq_inputs=robot, states=initial_state, constants=(cfeatures, dmp_dt), training=False)"
   ]
  },
  {
   "cell_type": "code",
   "execution_count": 3,
   "metadata": {},
   "outputs": [],
   "source": [
    "class controller_tf(tf.keras.Model):\n",
    "    def __init__(self) -> None:\n",
    "        super().__init__()\n",
    "        self.units               = 32\n",
    "        self.output_dims         = 7\n",
    "        self.basis_functions     = 11\n",
    "        self.controller = tf.keras.layers.RNN(\n",
    "                    FeedbackController(\n",
    "                        robot_state_size = self.units, \n",
    "                        rnn_state_size   = (tf.TensorShape([self.output_dims]), tf.TensorShape([self.units])),\n",
    "                        dimensions       = self.output_dims, \n",
    "                        basis_functions  = self.basis_functions,\n",
    "                        special          = None\n",
    "                    ), \n",
    "                return_sequences=True)\n",
    "    def forward(self, robot, cfeatures, dmp_dt, initial_state, training):\n",
    "        return self.controller(inputs=robot, constants=(cfeatures, dmp_dt), initial_state=initial_state, training=training)\n",
    "\n"
   ]
  },
  {
   "cell_type": "code",
   "execution_count": 4,
   "metadata": {},
   "outputs": [],
   "source": [
    "seq_len = 5\n",
    "bs = 4\n",
    "robot = np.random.rand(bs,seq_len,7)\n",
    "cfeatures = np.random.rand(bs,44)\n",
    "dmp_dt = np.random.rand(bs,1)\n",
    "init_state1 = np.random.rand(bs,7)\n",
    "init_state2 = np.random.rand(bs,32)\n",
    "\n",
    "robot_tf = tf.convert_to_tensor(robot, dtype=tf.float64)\n",
    "cfeatures_tf = tf.convert_to_tensor(cfeatures, dtype=tf.float64)\n",
    "dmp_dt_tf = tf.convert_to_tensor(dmp_dt, dtype=tf.float64)\n",
    "init_state1_tf = tf.convert_to_tensor(init_state1, dtype=tf.float64)\n",
    "init_state2_tf = tf.convert_to_tensor(init_state2, dtype=tf.float64)\n",
    "\n",
    "robot_torch = torch.tensor(robot, dtype=torch.float64)\n",
    "cfeatures_torch = torch.tensor(cfeatures, dtype=torch.float64)\n",
    "dmp_dt_torch = torch.tensor(dmp_dt, dtype=torch.float64)\n",
    "init_state1_torch = torch.tensor(init_state1, dtype=torch.float64)\n",
    "init_state2_torch = torch.tensor(init_state2, dtype=torch.float64)\n",
    "\n",
    "ControllerTorch = controller_torch()\n",
    "\n",
    "ControllerTF = controller_tf()\n"
   ]
  },
  {
   "cell_type": "code",
   "execution_count": 5,
   "metadata": {},
   "outputs": [],
   "source": [
    "import pickle\n",
    "with open('controller.pkl', 'wb') as f:\n",
    "    pickle.dump(ControllerTorch.state_dict(), f)"
   ]
  },
  {
   "cell_type": "code",
   "execution_count": 6,
   "metadata": {},
   "outputs": [],
   "source": [
    "def load_controller_torch(ct):\n",
    "    with open('controller.pkl', 'rb') as f:\n",
    "        loaded_dict = pickle.load(f)\n",
    "    ct.load_state_dict(loaded_dict, strict=True)\n",
    "    return ct"
   ]
  },
  {
   "cell_type": "code",
   "execution_count": 7,
   "metadata": {},
   "outputs": [],
   "source": [
    "def load_controller_tf(ctf):\n",
    "    with open('controller.pkl', 'rb') as f:\n",
    "        loaded_dict = pickle.load(f)\n",
    "    loaded_dict['controller.Cell.robot_gru.bias_ih'] = torch.cat((loaded_dict['controller.Cell.robot_gru.bias_hh'].unsqueeze(1),\n",
    "    loaded_dict['controller.Cell.robot_gru.bias_ih'].unsqueeze(1)), dim=1)\n",
    "    del loaded_dict['controller.Cell.robot_gru.bias_hh']\n",
    "    del loaded_dict['controller.Cell.basismodel._centers']\n",
    "    #for v, vitem in loaded_dict.items():\n",
    "    #    print(v)\n",
    "    #    print(vitem.shape)\n",
    "    weights = [\n",
    "        tf.convert_to_tensor(wt.T.numpy(), dtype=tf.float64) for wt in loaded_dict.values()\n",
    "    ]\n",
    "    ctf.set_weights(weights)\n",
    "    for w in ctf.trainable_variables:\n",
    "        print(w.dtype)\n",
    "    return ctf"
   ]
  },
  {
   "cell_type": "code",
   "execution_count": 8,
   "metadata": {},
   "outputs": [
    {
     "name": "stdout",
     "output_type": "stream",
     "text": [
      "in_robot: [0.82218201 0.3123853  0.83037212 0.60336368 0.73380905]\n",
      "st_gru_last: [0.66942109 0.99952977 0.95571641 0.67223351 0.66131527]\n",
      "e_robot: [0.40176806 0.26355879 0.62063157 0.33986366 0.10169596]\n",
      "in_robot: [0.82218201 0.3123853  0.83037212 0.60336368 0.73380905]\n",
      "st_gru_last: [0.66942109 0.99952977 0.95571641 0.67223351 0.66131527]\n",
      "e_robot: [0.40176806 0.26355879 0.62063157 0.33986366 0.10169596]\n",
      "in_robot: [0.24110608 0.54022686 0.90250058 0.90493803 0.89526957]\n",
      "st_gru_last: [0.40176806 0.26355879 0.62063157 0.33986366 0.10169596]\n",
      "e_robot: [ 0.25264624 -0.04316009  0.35226518  0.21102095 -0.13877481]\n",
      "in_robot: [0.84185649 0.30061571 0.21570727 0.08532576 0.52952407]\n",
      "st_gru_last: [ 0.25264624 -0.04316009  0.35226518  0.21102095 -0.13877481]\n",
      "e_robot: [ 0.07580221 -0.18892998  0.24223129  0.12041768 -0.22851742]\n",
      "in_robot: [0.20076891 0.83463747 0.78606288 0.78175762 0.00946002]\n",
      "st_gru_last: [ 0.07580221 -0.18892998  0.24223129  0.12041768 -0.22851742]\n",
      "e_robot: [-0.06603181 -0.24848214  0.05471966  0.11191319 -0.19743742]\n",
      "in_robot: [0.4428392  0.60502727 0.30944298 0.43067084 0.16575854]\n",
      "st_gru_last: [-0.06603181 -0.24848214  0.05471966  0.11191319 -0.19743742]\n",
      "e_robot: [-0.10205009 -0.27227854  0.03175319  0.06823574 -0.12124174]\n",
      "<dtype: 'float64'>\n",
      "<dtype: 'float64'>\n",
      "<dtype: 'float64'>\n",
      "<dtype: 'float64'>\n",
      "<dtype: 'float64'>\n",
      "<dtype: 'float64'>\n",
      "<dtype: 'float64'>\n",
      "<dtype: 'float64'>\n",
      "<dtype: 'float64'>\n",
      "<dtype: 'float64'>\n",
      "<dtype: 'float64'>\n",
      "<dtype: 'float64'>\n",
      "<dtype: 'float64'>\n",
      "______________________________________________________________________________________________\n",
      "in_robot: [0.82218201 0.3123853  0.83037212 0.60336368 0.73380905]\n",
      "st_gru_last: [0.66942109 0.99952977 0.95571641 0.67223351 0.66131527]\n",
      "e_robot: [0.06688586 0.69159065 0.67142062 0.41052995 0.33568067]\n",
      "in_robot: [0.82218201 0.3123853  0.83037212 0.60336368 0.73380905]\n",
      "st_gru_last: [0.66942109 0.99952977 0.95571641 0.67223351 0.66131527]\n",
      "e_robot: [0.06688586 0.69159065 0.67142062 0.41052995 0.33568067]\n",
      "in_robot: [0.24110608 0.54022686 0.90250058 0.90493803 0.89526957]\n",
      "st_gru_last: [0.06688586 0.69159065 0.67142062 0.41052995 0.33568067]\n",
      "e_robot: [-0.03964039  0.49484183  0.54527379  0.34103918  0.23711668]\n",
      "in_robot: [0.84185649 0.30061571 0.21570727 0.08532576 0.52952407]\n",
      "st_gru_last: [-0.03964039  0.49484183  0.54527379  0.34103918  0.23711668]\n",
      "e_robot: [-0.16018206  0.51265695  0.36296715  0.31278094  0.1531083 ]\n",
      "in_robot: [0.20076891 0.83463747 0.78606288 0.78175762 0.00946002]\n",
      "st_gru_last: [-0.16018206  0.51265695  0.36296715  0.31278094  0.1531083 ]\n",
      "e_robot: [-0.21118102  0.42392386  0.29692131  0.27247927  0.16236714]\n",
      "in_robot: [0.4428392  0.60502727 0.30944298 0.43067084 0.16575854]\n",
      "st_gru_last: [-0.21118102  0.42392386  0.29692131  0.27247927  0.16236714]\n",
      "e_robot: [-0.21782395  0.38905218  0.22409451  0.23309168  0.09147759]\n"
     ]
    }
   ],
   "source": [
    "result_tf = ControllerTF.forward(robot=robot_tf, cfeatures=cfeatures_tf, dmp_dt = dmp_dt_tf, initial_state=[init_state1_tf, init_state2_tf], training=False)\n",
    "ControllerTF = load_controller_tf(ControllerTF)\n",
    "print('______________________________________________________________________________________________')\n",
    "result_tf = ControllerTF.forward(robot=robot_tf, cfeatures=cfeatures_tf, dmp_dt = dmp_dt_tf, initial_state=[init_state1_tf, init_state2_tf], training=False)\n"
   ]
  },
  {
   "cell_type": "code",
   "execution_count": 9,
   "metadata": {},
   "outputs": [
    {
     "name": "stdout",
     "output_type": "stream",
     "text": [
      "in_robot: tensor([0.8222, 0.3124, 0.8304, 0.6034, 0.7338])\n",
      "st_gru_last: tensor([0.6694, 0.9995, 0.9557, 0.6722, 0.6613])\n",
      "gru_output: tensor([0.2326, 0.6443, 0.6770, 0.3773, 0.4560], grad_fn=<SliceBackward0>)\n",
      "in_robot: tensor([0.2411, 0.5402, 0.9025, 0.9049, 0.8953])\n",
      "st_gru_last: tensor([0.2326, 0.6443, 0.6770, 0.3773, 0.4560], grad_fn=<SliceBackward0>)\n",
      "gru_output: tensor([0.0810, 0.4423, 0.5295, 0.2764, 0.3354], grad_fn=<SliceBackward0>)\n",
      "in_robot: tensor([0.8419, 0.3006, 0.2157, 0.0853, 0.5295])\n",
      "st_gru_last: tensor([0.0810, 0.4423, 0.5295, 0.2764, 0.3354], grad_fn=<SliceBackward0>)\n",
      "gru_output: tensor([-0.0658,  0.4914,  0.2962,  0.2533,  0.2110], grad_fn=<SliceBackward0>)\n",
      "in_robot: tensor([0.2008, 0.8346, 0.7861, 0.7818, 0.0095])\n",
      "st_gru_last: tensor([-0.0658,  0.4914,  0.2962,  0.2533,  0.2110], grad_fn=<SliceBackward0>)\n",
      "gru_output: tensor([-0.1527,  0.3895,  0.2468,  0.2224,  0.1917], grad_fn=<SliceBackward0>)\n",
      "in_robot: tensor([0.4428, 0.6050, 0.3094, 0.4307, 0.1658])\n",
      "st_gru_last: tensor([-0.1527,  0.3895,  0.2468,  0.2224,  0.1917], grad_fn=<SliceBackward0>)\n",
      "gru_output: tensor([-0.1860,  0.3630,  0.1840,  0.1908,  0.1113], grad_fn=<SliceBackward0>)\n",
      "_________________________________________________________________________________________\n",
      "in_robot: tensor([0.8222, 0.3124, 0.8304, 0.6034, 0.7338])\n",
      "st_gru_last: tensor([0.6694, 0.9995, 0.9557, 0.6722, 0.6613])\n",
      "gru_output: tensor([0.2326, 0.6443, 0.6770, 0.3773, 0.4560], grad_fn=<SliceBackward0>)\n",
      "in_robot: tensor([0.2411, 0.5402, 0.9025, 0.9049, 0.8953])\n",
      "st_gru_last: tensor([0.2326, 0.6443, 0.6770, 0.3773, 0.4560], grad_fn=<SliceBackward0>)\n",
      "gru_output: tensor([0.0810, 0.4423, 0.5295, 0.2764, 0.3354], grad_fn=<SliceBackward0>)\n",
      "in_robot: tensor([0.8419, 0.3006, 0.2157, 0.0853, 0.5295])\n",
      "st_gru_last: tensor([0.0810, 0.4423, 0.5295, 0.2764, 0.3354], grad_fn=<SliceBackward0>)\n",
      "gru_output: tensor([-0.0658,  0.4914,  0.2962,  0.2533,  0.2110], grad_fn=<SliceBackward0>)\n",
      "in_robot: tensor([0.2008, 0.8346, 0.7861, 0.7818, 0.0095])\n",
      "st_gru_last: tensor([-0.0658,  0.4914,  0.2962,  0.2533,  0.2110], grad_fn=<SliceBackward0>)\n",
      "gru_output: tensor([-0.1527,  0.3895,  0.2468,  0.2224,  0.1917], grad_fn=<SliceBackward0>)\n",
      "in_robot: tensor([0.4428, 0.6050, 0.3094, 0.4307, 0.1658])\n",
      "st_gru_last: tensor([-0.1527,  0.3895,  0.2468,  0.2224,  0.1917], grad_fn=<SliceBackward0>)\n",
      "gru_output: tensor([-0.1860,  0.3630,  0.1840,  0.1908,  0.1113], grad_fn=<SliceBackward0>)\n"
     ]
    }
   ],
   "source": [
    "result_torch = ControllerTorch(robot=robot_torch, cfeatures=cfeatures_torch, dmp_dt = dmp_dt_torch, initial_state=[init_state1_torch, init_state2_torch])\n",
    "print('_________________________________________________________________________________________')\n",
    "ControllerTorch = load_controller_torch(ControllerTorch)\n",
    "result_torch = ControllerTorch(robot=robot_torch, cfeatures=cfeatures_torch, dmp_dt = dmp_dt_torch, initial_state=[init_state1_torch, init_state2_torch])\n"
   ]
  },
  {
   "cell_type": "code",
   "execution_count": 10,
   "metadata": {},
   "outputs": [
    {
     "data": {
      "text/plain": [
       "tensor([[0.4722],\n",
       "        [0.4713],\n",
       "        [0.4752],\n",
       "        [0.4739],\n",
       "        [0.4756]], grad_fn=<SliceBackward0>)"
      ]
     },
     "execution_count": 10,
     "metadata": {},
     "output_type": "execute_result"
    }
   ],
   "source": [
    "result_torch[1][0,:10]"
   ]
  },
  {
   "cell_type": "code",
   "execution_count": 11,
   "metadata": {},
   "outputs": [
    {
     "ename": "AttributeError",
     "evalue": "'int' object has no attribute 'set_weights'",
     "output_type": "error",
     "traceback": [
      "\u001b[0;31m---------------------------------------------------------------------------\u001b[0m",
      "\u001b[0;31mAttributeError\u001b[0m                            Traceback (most recent call last)",
      "\u001b[0;32m<ipython-input-11-9f05763c0564>\u001b[0m in \u001b[0;36m<module>\u001b[0;34m\u001b[0m\n\u001b[0;32m----> 1\u001b[0;31m \u001b[0mload_controller_tf\u001b[0m\u001b[0;34m(\u001b[0m\u001b[0;36m1\u001b[0m\u001b[0;34m)\u001b[0m\u001b[0;34m\u001b[0m\u001b[0;34m\u001b[0m\u001b[0m\n\u001b[0m",
      "\u001b[0;32m<ipython-input-7-d5cea030044a>\u001b[0m in \u001b[0;36mload_controller_tf\u001b[0;34m(ctf)\u001b[0m\n\u001b[1;32m     12\u001b[0m         \u001b[0mtf\u001b[0m\u001b[0;34m.\u001b[0m\u001b[0mconvert_to_tensor\u001b[0m\u001b[0;34m(\u001b[0m\u001b[0mwt\u001b[0m\u001b[0;34m.\u001b[0m\u001b[0mT\u001b[0m\u001b[0;34m.\u001b[0m\u001b[0mnumpy\u001b[0m\u001b[0;34m(\u001b[0m\u001b[0;34m)\u001b[0m\u001b[0;34m,\u001b[0m \u001b[0mdtype\u001b[0m\u001b[0;34m=\u001b[0m\u001b[0mtf\u001b[0m\u001b[0;34m.\u001b[0m\u001b[0mfloat64\u001b[0m\u001b[0;34m)\u001b[0m \u001b[0;32mfor\u001b[0m \u001b[0mwt\u001b[0m \u001b[0;32min\u001b[0m \u001b[0mloaded_dict\u001b[0m\u001b[0;34m.\u001b[0m\u001b[0mvalues\u001b[0m\u001b[0;34m(\u001b[0m\u001b[0;34m)\u001b[0m\u001b[0;34m\u001b[0m\u001b[0;34m\u001b[0m\u001b[0m\n\u001b[1;32m     13\u001b[0m     ]\n\u001b[0;32m---> 14\u001b[0;31m     \u001b[0mctf\u001b[0m\u001b[0;34m.\u001b[0m\u001b[0mset_weights\u001b[0m\u001b[0;34m(\u001b[0m\u001b[0mweights\u001b[0m\u001b[0;34m)\u001b[0m\u001b[0;34m\u001b[0m\u001b[0;34m\u001b[0m\u001b[0m\n\u001b[0m\u001b[1;32m     15\u001b[0m     \u001b[0;32mfor\u001b[0m \u001b[0mw\u001b[0m \u001b[0;32min\u001b[0m \u001b[0mctf\u001b[0m\u001b[0;34m.\u001b[0m\u001b[0mtrainable_variables\u001b[0m\u001b[0;34m:\u001b[0m\u001b[0;34m\u001b[0m\u001b[0;34m\u001b[0m\u001b[0m\n\u001b[1;32m     16\u001b[0m         \u001b[0mprint\u001b[0m\u001b[0;34m(\u001b[0m\u001b[0mw\u001b[0m\u001b[0;34m.\u001b[0m\u001b[0mdtype\u001b[0m\u001b[0;34m)\u001b[0m\u001b[0;34m\u001b[0m\u001b[0;34m\u001b[0m\u001b[0m\n",
      "\u001b[0;31mAttributeError\u001b[0m: 'int' object has no attribute 'set_weights'"
     ]
    }
   ],
   "source": [
    "load_controller_tf(1)"
   ]
  },
  {
   "cell_type": "code",
   "execution_count": 4,
   "metadata": {},
   "outputs": [
    {
     "name": "stdout",
     "output_type": "stream",
     "text": [
      "rnn/gru_cell/kernel:0\n",
      "(7, 96)\n",
      "rnn/gru_cell/recurrent_kernel:0\n",
      "(32, 96)\n",
      "rnn/gru_cell/bias:0\n",
      "(2, 96)\n",
      "rnn/dense/kernel:0\n",
      "(76, 77)\n",
      "rnn/dense/bias:0\n",
      "(77,)\n",
      "rnn/dense_1/kernel:0\n",
      "(77, 77)\n",
      "rnn/dense_1/bias:0\n",
      "(77,)\n",
      "rnn/dense_2/kernel:0\n",
      "(77, 77)\n",
      "rnn/dense_2/bias:0\n",
      "(77,)\n",
      "rnn/dense_3/kernel:0\n",
      "(76, 16)\n",
      "rnn/dense_3/bias:0\n",
      "(16,)\n",
      "rnn/dense_4/kernel:0\n",
      "(16, 1)\n",
      "rnn/dense_4/bias:0\n",
      "(1,)\n"
     ]
    }
   ],
   "source": [
    "for v in ControllerTF.trainable_variables:\n",
    "    print(v.name)\n",
    "    print(v.shape)"
   ]
  },
  {
   "cell_type": "code",
   "execution_count": null,
   "metadata": {},
   "outputs": [],
   "source": []
  }
 ],
 "metadata": {
  "interpreter": {
   "hash": "31f2aee4e71d21fbe5cf8b01ff0e069b9275f58929596ceb00d14d90e3e16cd6"
  },
  "kernelspec": {
   "display_name": "Python 3.6.9 64-bit",
   "language": "python",
   "name": "python3"
  },
  "language_info": {
   "codemirror_mode": {
    "name": "ipython",
    "version": 3
   },
   "file_extension": ".py",
   "mimetype": "text/x-python",
   "name": "python",
   "nbconvert_exporter": "python",
   "pygments_lexer": "ipython3",
   "version": "3.6.9"
  },
  "orig_nbformat": 4
 },
 "nbformat": 4,
 "nbformat_minor": 2
}
